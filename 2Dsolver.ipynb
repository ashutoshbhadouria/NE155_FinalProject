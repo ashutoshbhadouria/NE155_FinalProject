{
 "cells": [
  {
   "cell_type": "markdown",
   "id": "controlled-better",
   "metadata": {},
   "source": [
    "# 2D Diffusion Equation Solver"
   ]
  },
  {
   "cell_type": "markdown",
   "id": "decreased-fluid",
   "metadata": {},
   "source": [
    "This file contains the code for obtaining a discretized matrix representation of 2D diffusion equation via Finite Volume Method"
   ]
  },
  {
   "cell_type": "code",
   "execution_count": 17,
   "id": "global-marks",
   "metadata": {},
   "outputs": [],
   "source": [
    "# Importing Solver functions from jupyter file\n",
    "%run iterative_solvers.ipynb"
   ]
  },
  {
   "cell_type": "code",
   "execution_count": 14,
   "id": "spread-belize",
   "metadata": {},
   "outputs": [],
   "source": [
    "# Defining  main solver function\n",
    "\n",
    "import numpy as np\n",
    "def two_D_DEsolver(x_pos, y_pos, D_mesh, abs_mesh, source_mesh, err_tol):\n",
    "    \"\"\"\n",
    "    x_pos: position of material along x direction (n+1 by 1)\n",
    "    y_pos: position of material along y direction (m+1 by 1)\n",
    "    D_mesh: Diffusion constant distribution over meshes (m by n)\n",
    "    abs_mesh: Absorption macroscopic cross section distribution over meshes (m by n)\n",
    "    source_mesh: Fixed source distribution over meshes (m by n)\n",
    "    \n",
    "    \"\"\"\n",
    "    m = len(y_pos)-1\n",
    "    n = len(x_pos)-1\n",
    "    matrix_A = np.zeros(((m+1)*(n+1),(m+1)*(n+1)))\n",
    "    phi_solutions = np.empty(((m+1)*(n+1),1))\n",
    "    phi_solutions.fill(np.nan)\n",
    "    \n",
    "    #Flux: Non corner or edge points\n",
    "        # for loop\n",
    "  \n",
    "    #Flux: Reflecting side right\n",
    "        # for loop\n",
    "        \n",
    "    #Flux: Reflecting side top\n",
    "        # for loop\n",
    "        \n",
    "    #Flux: Top right\n",
    "        #Assign fixed boundary conditions\n",
    "    \n",
    "    \n",
    "    \n",
    "    #Absorption: Non corner or edge points    \n",
    "        # for loop\n",
    "\n",
    "            \n",
    "    #Absorption: Reflecting Side Right Points\n",
    "        # for loop\n",
    "  \n",
    "\n",
    "    #Absorption: Reflecting Side top Points\n",
    "        # for loop\n",
    " \n",
    "        \n",
    "    #Absorption: Top Right\n",
    "        #Assign fixed boundary conditions\n",
    "    \n",
    "    # Using imported solver functions\n",
    "        # using SOR, jacobi and Gauss to arrive at 3 solutions\n",
    "    \n",
    "    return flux_list_gs, flux_list_j, flux_list_s"
   ]
  },
  {
   "cell_type": "code",
   "execution_count": null,
   "id": "thousand-witness",
   "metadata": {},
   "outputs": [],
   "source": []
  }
 ],
 "metadata": {
  "kernelspec": {
   "display_name": "Python 3",
   "language": "python",
   "name": "python3"
  },
  "language_info": {
   "codemirror_mode": {
    "name": "ipython",
    "version": 3
   },
   "file_extension": ".py",
   "mimetype": "text/x-python",
   "name": "python",
   "nbconvert_exporter": "python",
   "pygments_lexer": "ipython3",
   "version": "3.9.2"
  }
 },
 "nbformat": 4,
 "nbformat_minor": 5
}
