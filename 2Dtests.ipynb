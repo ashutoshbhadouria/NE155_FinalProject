{
 "cells": [
  {
   "cell_type": "markdown",
   "id": "amateur-barcelona",
   "metadata": {},
   "source": [
    "# Demo and Visualizations"
   ]
  },
  {
   "cell_type": "markdown",
   "id": "stock-sheep",
   "metadata": {},
   "source": [
    "This file contains tests for determining validity of 2D Diffusion Equation Solver"
   ]
  },
  {
   "cell_type": "markdown",
   "id": "ignored-travel",
   "metadata": {},
   "source": [
    "**Iterative Solver Tests**"
   ]
  },
  {
   "cell_type": "markdown",
   "id": "persistent-idaho",
   "metadata": {},
   "source": [
    "We first start off by testing the iterative solvers"
   ]
  },
  {
   "cell_type": "code",
   "execution_count": 2,
   "id": "fabulous-springer",
   "metadata": {},
   "outputs": [],
   "source": [
    "%run iterative_solvers.ipynb"
   ]
  },
  {
   "cell_type": "code",
   "execution_count": 3,
   "id": "sized-store",
   "metadata": {},
   "outputs": [
    {
     "name": "stdout",
     "output_type": "stream",
     "text": [
      "reference solution:\n",
      " [61.11111111 83.33333333 88.88888889 83.33333333 61.11111111]\n"
     ]
    }
   ],
   "source": [
    "# Test adapted from hw problem\n",
    "\n",
    "import numpy as np\n",
    "import scipy as sci\n",
    "from scipy import sparse\n",
    "from scipy import linalg\n",
    "\n",
    "# Define A with built in functions\n",
    "n = 5\n",
    "vals = [-1., 3., -1.]\n",
    "diags = [-1, 0, 1]\n",
    "A = sci.sparse.diags(vals, diags, shape=(n,n)).todense()\n",
    "\n",
    "# rhs and first guess\n",
    "b = 100.0*np.ones(n)\n",
    "x_0 = np.zeros(n)\n",
    "\n",
    "# For reference:\n",
    "x_ref = np.linalg.solve(A,b)\n",
    "print(\"reference solution:\\n\", x_ref)"
   ]
  },
  {
   "cell_type": "code",
   "execution_count": 4,
   "id": "alien-speed",
   "metadata": {},
   "outputs": [
    {
     "name": "stdout",
     "output_type": "stream",
     "text": [
      "Jacobi abs 1e-6 solution\n",
      " [61.111058842321576, 83.33323924951218, 88.88878435130982, 83.33323924951218, 61.111058842321576]\n",
      "\n",
      "Jacobi abs 1e-6 iteration count\n",
      " 25 \n",
      "\n",
      "GS abs 1e-6 solution\n",
      " [61.11106232699278, 83.33328454915817, 88.8888563660865, 83.33331707192897, 61.11110569064299]\n",
      "\n",
      "GS abs 1e-6 iteration count\n",
      " 14 \n",
      "\n",
      "SOR abs 1e-6 solution\n",
      " [61.1108812630212, 83.33320658708325, 88.88883332491011, 83.33331672721079, 61.11110785971579]\n",
      "\n",
      "SOR abs 1e-6 iteration count\n",
      " 8\n"
     ]
    }
   ],
   "source": [
    "# Jacobi\n",
    "(itr_J,x_J) = jacobi_solver(np.array(A), np.array(b).flatten(), np.array(x_0).flatten(), 1.e-6)\n",
    "print(\"Jacobi abs 1e-6 solution\\n\", x_J)\n",
    "print(\"\\nJacobi abs 1e-6 iteration count\\n\",itr_J,\"\\n\")\n",
    "\n",
    "# Gauss Seidel\n",
    "(itr_GS,x_GS) = gauss_sedidel_solver(np.array(A), np.array(b).flatten(), np.array(x_0).flatten(), 1.e-6)\n",
    "print(\"GS abs 1e-6 solution\\n\", x_GS)\n",
    "print(\"\\nGS abs 1e-6 iteration count\\n\",itr_GS,\"\\n\")\n",
    "\n",
    "# SOR, omega = 1.15\n",
    "omega=1.15\n",
    "(itr_SOR,x_SOR) = sor_solver(np.array(A), np.array(b).flatten(), np.array(x_0).flatten(), 1.e-6)\n",
    "print(\"SOR abs 1e-6 solution\\n\", x_SOR)\n",
    "print(\"\\nSOR abs 1e-6 iteration count\\n\",itr_SOR)"
   ]
  },
  {
   "cell_type": "markdown",
   "id": "arbitrary-cause",
   "metadata": {},
   "source": [
    "As seen above, the number if iterations decrease from Jacobi to SOR for finding a solution with the same error tolerance"
   ]
  },
  {
   "cell_type": "markdown",
   "id": "north-quarterly",
   "metadata": {},
   "source": [
    "**2D Solver Tests**"
   ]
  },
  {
   "cell_type": "code",
   "execution_count": 5,
   "id": "desirable-world",
   "metadata": {},
   "outputs": [],
   "source": [
    "%run 2Dsolver.ipynb\n",
    "import matplotlib.pyplot as plt"
   ]
  },
  {
   "cell_type": "code",
   "execution_count": 6,
   "id": "surgical-serve",
   "metadata": {},
   "outputs": [],
   "source": [
    "x_pos = np.array([0,2,4])\n",
    "y_pos = np.array([0,2,4])\n",
    "D_mesh = np.array([[1,1],[1,1]])\n",
    "abs_mesh = np.array([[0,0],[0,0]])\n",
    "source_mesh = np.array([[0,0],[0,0]])"
   ]
  },
  {
   "cell_type": "code",
   "execution_count": 7,
   "id": "described-repeat",
   "metadata": {},
   "outputs": [],
   "source": [
    "# plt.set_cmap('copper')\n",
    "# plt.pcolormesh(x_pos, y_pos, D_mesh)\n",
    "# plt.colorbar();"
   ]
  },
  {
   "cell_type": "code",
   "execution_count": 8,
   "id": "instant-livestock",
   "metadata": {},
   "outputs": [
    {
     "name": "stdout",
     "output_type": "stream",
     "text": [
      "[0.0, 0.0, 0.0, 0.0, 1.0254144751127276e-162, 8.922707752624395e-163, 0.0, 8.922707752624395e-163, 7.764149577661378e-163]\n"
     ]
    },
    {
     "name": "stderr",
     "output_type": "stream",
     "text": [
      "<ipython-input-5-631b2ae4de20>:58: RuntimeWarning: invalid value encountered in double_scalars\n",
      "  err = np.linalg.norm(x1-answer[-2])/np.linalg.norm(x1)\n"
     ]
    }
   ],
   "source": [
    "iterations,fluxes = two_D_DEsolver(x_pos, y_pos, D_mesh, abs_mesh, source_mesh)\n",
    "print(fluxes)"
   ]
  },
  {
   "cell_type": "markdown",
   "id": "satisfied-cooling",
   "metadata": {},
   "source": [
    "The above code runs a RuntimeWarning and the output fluxes are approximately 0. This makes sense since there is no source term and no macroscopic absorption"
   ]
  },
  {
   "cell_type": "code",
   "execution_count": 9,
   "id": "convertible-milton",
   "metadata": {},
   "outputs": [
    {
     "name": "stdout",
     "output_type": "stream",
     "text": [
      "[-2.500000000000074e-34, -2.500000000000074e-34, -2.500000000000074e-34, -2.500000000000074e-34, -2.500000000000074e-34, 3.807666505284335, 5.615347409650588, 6.153810388020319, -2.500000000000074e-34, 5.615347409650588, 8.499946351261247, 9.384563812149562, -2.500000000000074e-34, 6.153810388020319, 9.384563812149562, 10.384565808068146]\n"
     ]
    }
   ],
   "source": [
    "x_pos = np.array([1,3,5,7])\n",
    "y_pos = np.array([1,3,5,7])\n",
    "D_mesh = np.array([[1,1,1],[1,1,1],[1,1,1]])\n",
    "abs_mesh = np.array([[0,0,0],[0,0,0],[0,0,0]])\n",
    "source_mesh = np.array([[1,1,1],[1,1,1],[1,1,1]])\n",
    "iterations,fluxes = two_D_DEsolver(x_pos, y_pos, D_mesh, abs_mesh, source_mesh)\n",
    "print(fluxes)"
   ]
  },
  {
   "cell_type": "code",
   "execution_count": 10,
   "id": "ruled-western",
   "metadata": {},
   "outputs": [
    {
     "data": {
      "text/plain": [
       "16"
      ]
     },
     "execution_count": 10,
     "metadata": {},
     "output_type": "execute_result"
    }
   ],
   "source": [
    "len(fluxes)"
   ]
  },
  {
   "cell_type": "markdown",
   "id": "chicken-graphic",
   "metadata": {},
   "source": [
    "Adding a source term and having overall absorbtion mesh equal to 0 gives the above results for fluxes. These can be plotted as a color mesh shown below "
   ]
  },
  {
   "cell_type": "code",
   "execution_count": 89,
   "id": "burning-evanescence",
   "metadata": {},
   "outputs": [
    {
     "data": {
      "image/png": "[encoded data removed]",
      "text/plain": [
       "<Figure size 432x288 with 2 Axes>"
      ]
     },
     "metadata": {
      "needs_background": "light"
     },
     "output_type": "display_data"
    }
   ],
   "source": [
    "plt.set_cmap('copper')\n",
    "plt.pcolormesh(x_pos, y_pos,np.reshape(fluxes,(len(y_pos),len(x_pos))),shading=\"nearest\",alpha=0.9)\n",
    "plt.colorbar();"
   ]
  },
  {
   "cell_type": "markdown",
   "id": "portuguese-outreach",
   "metadata": {},
   "source": [
    "**2D Solver Demo**"
   ]
  },
  {
   "cell_type": "markdown",
   "id": "numerous-shepherd",
   "metadata": {},
   "source": [
    "After testing, the following lines of code show flux analysis with varying physical parameters such as difusion coefficient, source and macroscopic cross section of absorbtion. "
   ]
  },
  {
   "cell_type": "markdown",
   "id": "vertical-latex",
   "metadata": {},
   "source": [
    "*Varying Diffusion Coefficient*"
   ]
  },
  {
   "cell_type": "code",
   "execution_count": 149,
   "id": "laughing-night",
   "metadata": {},
   "outputs": [
    {
     "data": {
      "image/png": "[encoded data removed]",
      "text/plain": [
       "<Figure size 432x288 with 2 Axes>"
      ]
     },
     "metadata": {
      "needs_background": "light"
     },
     "output_type": "display_data"
    }
   ],
   "source": [
    "x_pos1 = np.array([1,3,5,7,9])\n",
    "y_pos1 = np.array([1,3,5,7,9])\n",
    "D_mesh1 = np.array([[.5,.5,.5,.5],\n",
    "                  [.5,.5,.5,.5],\n",
    "                  [.5,.5,.5,.5],\n",
    "                  [.5,.5,.5,.5]])\n",
    "abs_mesh1 = np.array([[0,0,0,0],\n",
    "                  [0,0,0,0],\n",
    "                  [0,0,0,0],\n",
    "                  [0,0,0,0]])\n",
    "source_mesh1 = np.array([[10,10,10,10],\n",
    "                  [10,10,10,10],\n",
    "                  [10,10,10,10],\n",
    "                  [10,10,10,10]])\n",
    "iterations1,fluxes1 = two_D_DEsolver(x_pos1, y_pos1, D_mesh1, abs_mesh1, source_mesh1)\n",
    "plt.pcolormesh(x_pos1, y_pos1,np.reshape(fluxes1,(len(y_pos1),len(x_pos1))),shading=\"auto\",alpha=0.9)\n",
    "plt.colorbar();"
   ]
  },
  {
   "cell_type": "code",
   "execution_count": 148,
   "id": "bound-expert",
   "metadata": {},
   "outputs": [
    {
     "data": {
      "image/png": "[encoded data removed]",
      "text/plain": [
       "<Figure size 432x288 with 2 Axes>"
      ]
     },
     "metadata": {
      "needs_background": "light"
     },
     "output_type": "display_data"
    }
   ],
   "source": [
    "x_pos = np.array([1,3,5,7,9])\n",
    "y_pos = np.array([1,3,5,7,9])\n",
    "D_mesh = np.array([[0.25,0.25,0.25,0.25],\n",
    "                  [0.25,0.25,0.25,0.25],\n",
    "                  [0.25,0.25,0.25,0.25],\n",
    "                  [0.25,0.25,0.25,0.25]])\n",
    "abs_mesh = np.array([[0,0,0,0],\n",
    "                  [0,0,0,0],\n",
    "                  [0,0,0,0],\n",
    "                  [0,0,0,0]])\n",
    "source_mesh = np.array([[10,10,10,10],\n",
    "                  [10,10,10,10],\n",
    "                  [10,10,10,10],\n",
    "                  [10,10,10,10]])\n",
    "iterations,fluxes = two_D_DEsolver(x_pos, y_pos, D_mesh, abs_mesh, source_mesh)\n",
    "plt.pcolormesh(x_pos, y_pos,np.reshape(fluxes,(len(y_pos),len(x_pos))),shading=\"auto\",alpha=0.9)\n",
    "plt.colorbar();"
   ]
  },
  {
   "cell_type": "code",
   "execution_count": 169,
   "id": "auburn-slovak",
   "metadata": {},
   "outputs": [
    {
     "data": {
      "image/png": "[encoded data removed]",
      "text/plain": [
       "<Figure size 864x360 with 3 Axes>"
      ]
     },
     "metadata": {
      "needs_background": "light"
     },
     "output_type": "display_data"
    }
   ],
   "source": [
    "n=0\n",
    "fig, axes = plt.subplots(nrows=1, ncols=2,figsize=(12, 5))\n",
    "for ax in axes.flat:\n",
    "    if n==0:\n",
    "        im = ax.pcolormesh(x_pos1, y_pos1,np.reshape(fluxes1,(len(y_pos1),len(x_pos1))),shading=\"auto\",alpha=0.9,vmin=0,vmax=700)\n",
    "        n=1\n",
    "    else:\n",
    "        im = ax.pcolormesh(x_pos, y_pos,np.reshape(fluxes,(len(y_pos),len(x_pos))),shading=\"auto\",alpha=0.9,vmin=0,vmax=700)\n",
    "\n",
    "axes[0].set_title('Diffusion Coefficient = 0.5')\n",
    "axes[1].set_title('Diffusion Coefficient = 0.25')\n",
    "fig.subplots_adjust(right=0.8)\n",
    "cbar_ax = fig.add_axes([0.85, 0.15, 0.05, 0.7])\n",
    "fig.colorbar(im, cax=cbar_ax)\n",
    "plt.title(\"Flux\")\n",
    "plt.show()"
   ]
  },
  {
   "cell_type": "markdown",
   "id": "oriental-commission",
   "metadata": {},
   "source": [
    "*Varying Macroscopic Cross Section for Absorption*"
   ]
  },
  {
   "cell_type": "code",
   "execution_count": 177,
   "id": "molecular-elephant",
   "metadata": {},
   "outputs": [
    {
     "data": {
      "image/png": "[encoded data removed]",
      "text/plain": [
       "<Figure size 432x288 with 2 Axes>"
      ]
     },
     "metadata": {
      "needs_background": "light"
     },
     "output_type": "display_data"
    }
   ],
   "source": [
    "x_pos1 = np.array([1,3,5,7,9])\n",
    "y_pos1 = np.array([1,3,5,7,9])\n",
    "D_mesh1 = np.array([[.5,.5,.5,.5],\n",
    "                  [.5,.5,.5,.5],\n",
    "                  [.5,.5,.5,.5],\n",
    "                  [.5,.5,.5,.5]])\n",
    "abs_mesh1 = np.array([[0,0,0,0],\n",
    "                  [0,0,0,0],\n",
    "                  [0,0,0,0],\n",
    "                  [0,0,0,0]])\n",
    "source_mesh1 = np.array([[10,10,10,10],\n",
    "                  [10,10,10,10],\n",
    "                  [10,10,10,10],\n",
    "                  [10,10,10,10]])\n",
    "iterations1,fluxes1 = two_D_DEsolver(x_pos1, y_pos1, D_mesh1, abs_mesh1, source_mesh1)\n",
    "plt.pcolormesh(x_pos1, y_pos1,np.reshape(fluxes1,(len(y_pos1),len(x_pos1))),shading=\"auto\",alpha=0.9)\n",
    "plt.colorbar();"
   ]
  },
  {
   "cell_type": "code",
   "execution_count": 178,
   "id": "determined-contrast",
   "metadata": {},
   "outputs": [
    {
     "data": {
      "image/png": "[encoded data removed]",
      "text/plain": [
       "<Figure size 432x288 with 2 Axes>"
      ]
     },
     "metadata": {
      "needs_background": "light"
     },
     "output_type": "display_data"
    }
   ],
   "source": [
    "x_pos = np.array([1,3,5,7,9])\n",
    "y_pos = np.array([1,3,5,7,9])\n",
    "D_mesh = np.array([[.5,.5,.5,.5],\n",
    "                  [.5,.5,.5,.5],\n",
    "                  [.5,.5,.5,.5],\n",
    "                  [.5,.5,.5,.5]])\n",
    "abs_mesh = np.array([[.05,.05,.05,.05],\n",
    "                  [.05,.05,.05,.05],\n",
    "                  [.05,.05,.05,.05],\n",
    "                  [.05,.05,.05,.05]])\n",
    "source_mesh = np.array([[10,10,10,10],\n",
    "                  [10,10,10,10],\n",
    "                  [10,10,10,10],\n",
    "                  [10,10,10,10]])\n",
    "iterations,fluxes = two_D_DEsolver(x_pos, y_pos, D_mesh, abs_mesh, source_mesh)\n",
    "plt.pcolormesh(x_pos, y_pos,np.reshape(fluxes,(len(y_pos),len(x_pos))),shading=\"auto\",alpha=0.9)\n",
    "plt.colorbar();"
   ]
  },
  {
   "cell_type": "code",
   "execution_count": 179,
   "id": "essential-modeling",
   "metadata": {},
   "outputs": [
    {
     "data": {
      "image/png": "[encoded data removed]",
      "text/plain": [
       "<Figure size 864x360 with 3 Axes>"
      ]
     },
     "metadata": {
      "needs_background": "light"
     },
     "output_type": "display_data"
    }
   ],
   "source": [
    "n=0\n",
    "fig, axes = plt.subplots(nrows=1, ncols=2,figsize=(12, 5))\n",
    "for ax in axes.flat:\n",
    "    if n==0:\n",
    "        im = ax.pcolormesh(x_pos1, y_pos1,np.reshape(fluxes1,(len(y_pos1),len(x_pos1))),shading=\"auto\",alpha=0.9,vmin=0,vmax=400)\n",
    "        n=1\n",
    "    else:\n",
    "        im = ax.pcolormesh(x_pos, y_pos,np.reshape(fluxes,(len(y_pos),len(x_pos))),shading=\"auto\",alpha=0.9,vmin=0,vmax=400)\n",
    "\n",
    "axes[0].set_title('Absorption Cross Section = 0')\n",
    "axes[1].set_title('Absorption Cross Section = 0.05')\n",
    "fig.subplots_adjust(right=0.8)\n",
    "cbar_ax = fig.add_axes([0.85, 0.15, 0.05, 0.7])\n",
    "fig.colorbar(im, cax=cbar_ax)\n",
    "plt.title(\"Flux\")\n",
    "plt.show()"
   ]
  },
  {
   "cell_type": "code",
   "execution_count": null,
   "id": "competent-belle",
   "metadata": {},
   "outputs": [],
   "source": []
  }
 ],
 "metadata": {
  "kernelspec": {
   "display_name": "Python 3",
   "language": "python",
   "name": "python3"
  },
  "language_info": {
   "codemirror_mode": {
    "name": "ipython",
    "version": 3
   },
   "file_extension": ".py",
   "mimetype": "text/x-python",
   "name": "python",
   "nbconvert_exporter": "python",
   "pygments_lexer": "ipython3",
   "version": "3.9.2"
  }
 },
 "nbformat": 4,
 "nbformat_minor": 5
}
