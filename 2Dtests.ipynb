{
 "cells": [
  {
   "cell_type": "markdown",
   "id": "amateur-barcelona",
   "metadata": {},
   "source": [
    "# Demo and Visualizations"
   ]
  },
  {
   "cell_type": "markdown",
   "id": "stock-sheep",
   "metadata": {},
   "source": [
    "This file contains tests for determining validity of 2D Diffusion Equation Solver"
   ]
  },
  {
   "cell_type": "markdown",
   "id": "ignored-travel",
   "metadata": {},
   "source": [
    "**Iterative Solver Tests**"
   ]
  },
  {
   "cell_type": "markdown",
   "id": "persistent-idaho",
   "metadata": {},
   "source": [
    "We first start off by testing the iterative solvers"
   ]
  },
  {
   "cell_type": "code",
   "execution_count": 8,
   "id": "fabulous-springer",
   "metadata": {},
   "outputs": [],
   "source": [
    "%run iterative_solvers.ipynb"
   ]
  },
  {
   "cell_type": "code",
   "execution_count": 21,
   "id": "sized-store",
   "metadata": {},
   "outputs": [
    {
     "name": "stdout",
     "output_type": "stream",
     "text": [
      "reference solution:\n",
      " [61.11111111 83.33333333 88.88888889 83.33333333 61.11111111]\n"
     ]
    }
   ],
   "source": [
    "# Test adapted from hw problem\n",
    "\n",
    "import numpy as np\n",
    "import scipy as sci\n",
    "from scipy import sparse\n",
    "from scipy import linalg\n",
    "\n",
    "# Define A with built in functions\n",
    "n = 5\n",
    "vals = [-1., 3., -1.]\n",
    "diags = [-1, 0, 1]\n",
    "A = sci.sparse.diags(vals, diags, shape=(n,n)).todense()\n",
    "\n",
    "# rhs and first guess\n",
    "b = 100.0*np.ones(n)\n",
    "x_0 = np.zeros(n)\n",
    "\n",
    "# For reference:\n",
    "x_ref = np.linalg.solve(A,b)\n",
    "print(\"reference solution:\\n\", x_ref)"
   ]
  },
  {
   "cell_type": "code",
   "execution_count": 23,
   "id": "alien-speed",
   "metadata": {},
   "outputs": [
    {
     "name": "stdout",
     "output_type": "stream",
     "text": [
      "Jacobi abs 1e-6 solution\n",
      " [61.111058842321576, 83.33323924951218, 88.88878435130982, 83.33323924951218, 61.111058842321576]\n",
      "\n",
      "Jacobi abs 1e-6 iteration count\n",
      " 25 \n",
      "\n",
      "\n",
      "------------------------------------------------------\n",
      "\n",
      "GS abs 1e-6 solution\n",
      " [61.11106232699278, 83.33328454915817, 88.8888563660865, 83.33331707192897, 61.11110569064299]\n",
      "\n",
      "GS abs 1e-6 iteration count\n",
      " 14 \n",
      "\n",
      "\n",
      "------------------------------------------------------\n",
      "\n",
      "SOR abs 1e-6 solution\n",
      " [61.1108812630212, 83.33320658708325, 88.88883332491011, 83.33331672721079, 61.11110785971579]\n",
      "\n",
      "SOR abs 1e-6 iteration count\n",
      " 8\n"
     ]
    }
   ],
   "source": [
    "# Jacobi\n",
    "(itr_J,x_J) = jacobi_solver(np.array(A), np.array(b).flatten(), np.array(x_0).flatten(), 1.e-6)\n",
    "print(\"Jacobi abs 1e-6 solution\\n\", x_J)\n",
    "print(\"\\nJacobi abs 1e-6 iteration count\\n\",itr_J,\"\\n\")\n",
    "print(\"\\n------------------------------------------------------\\n\")\n",
    "\n",
    "# Gauss Seidel\n",
    "(itr_GS,x_GS) = gauss_sedidel_solver(np.array(A), np.array(b).flatten(), np.array(x_0).flatten(), 1.e-6)\n",
    "print(\"GS abs 1e-6 solution\\n\", x_GS)\n",
    "print(\"\\nGS abs 1e-6 iteration count\\n\",itr_GS,\"\\n\")\n",
    "print(\"\\n------------------------------------------------------\\n\")\n",
    "\n",
    "# SOR, omega = 1.15\n",
    "omega=1.15\n",
    "(itr_SOR,x_SOR) = sor_solver(np.array(A), np.array(b).flatten(), np.array(x_0).flatten(), 1.e-6)\n",
    "print(\"SOR abs 1e-6 solution\\n\", x_SOR)\n",
    "print(\"\\nSOR abs 1e-6 iteration count\\n\",itr_SOR)"
   ]
  },
  {
   "cell_type": "markdown",
   "id": "arbitrary-cause",
   "metadata": {},
   "source": [
    "As seen above, the number if iterations decrease from Jacobi to SOR for finding a solution with the same error tolerance"
   ]
  },
  {
   "cell_type": "code",
   "execution_count": null,
   "id": "desirable-world",
   "metadata": {},
   "outputs": [],
   "source": [
    "%run 2Dsolver.ipynb"
   ]
  },
  {
   "cell_type": "code",
   "execution_count": null,
   "id": "stone-gathering",
   "metadata": {},
   "outputs": [],
   "source": [
    "#Comparing solutions from all the three iterative solvers\n"
   ]
  }
 ],
 "metadata": {
  "kernelspec": {
   "display_name": "Python 3",
   "language": "python",
   "name": "python3"
  },
  "language_info": {
   "codemirror_mode": {
    "name": "ipython",
    "version": 3
   },
   "file_extension": ".py",
   "mimetype": "text/x-python",
   "name": "python",
   "nbconvert_exporter": "python",
   "pygments_lexer": "ipython3",
   "version": "3.9.2"
  }
 },
 "nbformat": 4,
 "nbformat_minor": 5
}
