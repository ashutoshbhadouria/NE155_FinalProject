{
 "cells": [
  {
   "cell_type": "markdown",
   "id": "auburn-sweden",
   "metadata": {},
   "source": [
    "# Iterative Solvers for Ax=b"
   ]
  },
  {
   "cell_type": "markdown",
   "id": "ready-equivalent",
   "metadata": {},
   "source": [
    "This file contains iterative solvers for solving a linear system of equations of the form Ax=b where A is the coefficient matrix and b is the solution matrix.\n",
    "\n",
    "For our nuclear engineering system, A will be the coefficients of fluxes while b will be the source term. x is a vector of unknown fluxes."
   ]
  },
  {
   "cell_type": "code",
   "execution_count": 2,
   "id": "binding-range",
   "metadata": {},
   "outputs": [],
   "source": [
    "def jacobi_solver(A, b, x, e):\n",
    "    '''\n",
    "    e = error tollerance\n",
    "    Ax = b with n iterations until error < e\n",
    "    '''\n",
    "    answer = []\n",
    "    D = np.diag(A)\n",
    "    P = A - np.diagflat(D)\n",
    "    n = 1\n",
    "    x = (b - np.dot(P,x))/ D\n",
    "    err = 1\n",
    "    answer.append(list(x))\n",
    "    while err > e:\n",
    "        x = (b - np.dot(P,x))/ D\n",
    "        answer.append(list(x))        \n",
    "        err = np.linalg.norm(x-answer[-2])/np.linalg.norm(x)\n",
    "        n += 1\n",
    "    return n, answer[-1]\n",
    "\n",
    "def gauss_sedidel_solver(A, b, x, e):\n",
    "    '''\n",
    "    e = error tollerance\n",
    "    Ax = b with n iterations until error < e\n",
    "    '''\n",
    "    answer = []\n",
    "    L = np.tril(A)\n",
    "    n = 1\n",
    "    x = np.dot(np.linalg.inv(L), b - np.dot(A-L, x))\n",
    "    err = 1\n",
    "    answer.append(list(x))    \n",
    "    while err>e:\n",
    "        x = np.dot(np.linalg.inv(L), b - np.dot(A-L, x))\n",
    "        answer.append(list(x))  \n",
    "        err = np.linalg.norm(x-answer[-2])/np.linalg.norm(x)\n",
    "        n+=1\n",
    "    return n, answer[-1]\n",
    "\n",
    "def sor_solver(A, b, x, e, w = 1.1):\n",
    "    '''\n",
    "    e = error tollerance\n",
    "    Ax = b with n iterations until error < e\n",
    "    ''' \n",
    "    answer = []    \n",
    "    shape = np.shape(A)\n",
    "    m = shape[0]\n",
    "    x1 = x[:]\n",
    "    D=np.diagonal(A)\n",
    "    for i in range(m):\n",
    "        x1[i] = (1-w)*x[i]+(w*(b[i]-np.dot(A[i,:i],x1[0:i])-np.dot(A[i,i+1:],x[i+1:]))/D[i])\n",
    "        answer.append(list(x1)) \n",
    "    x = x1\n",
    "    n = 1\n",
    "    err = 1\n",
    "    while err > e:\n",
    "        for i in range(m):\n",
    "            x1[i] = (1-w)*x[i]+(w*(b[i]-np.dot(A[i,:i],x1[0:i])-np.dot(A[i,i+1:],x[i+1:]))/D[i])\n",
    "            answer.append(list(x1))             \n",
    "        err = np.linalg.norm(x1-answer[-2])/np.linalg.norm(x1)\n",
    "        x = x1\n",
    "        n += 1\n",
    "\n",
    "    return n, answer[-1]"
   ]
  },
  {
   "cell_type": "code",
   "execution_count": null,
   "id": "flush-confidence",
   "metadata": {},
   "outputs": [],
   "source": []
  }
 ],
 "metadata": {
  "kernelspec": {
   "display_name": "Python 3",
   "language": "python",
   "name": "python3"
  },
  "language_info": {
   "codemirror_mode": {
    "name": "ipython",
    "version": 3
   },
   "file_extension": ".py",
   "mimetype": "text/x-python",
   "name": "python",
   "nbconvert_exporter": "python",
   "pygments_lexer": "ipython3",
   "version": "3.9.2"
  }
 },
 "nbformat": 4,
 "nbformat_minor": 5
}
